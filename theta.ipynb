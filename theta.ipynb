{
 "cells": [
  {
   "cell_type": "markdown",
   "metadata": {},
   "source": [
    "# Theta*: Any-Angle Path Planning on Grids\n",
    "\n",
    "In this lab, we implement **Theta\\***, an any-angle modification of the A* algorithm. We keep A*’s best-first search (Open/Closed) but change the expansion using a line-of-sight (LOS) shortcut. $\\text{LOS}(a,b)$ returns true when the straight segment between the centers of cells $a$ and $b$ crosses only free cells.\n",
    "\n",
    "To be more precise, when expanding $s$, for each neighbor $\\text{neighbor}_s$:\n",
    "- If $s$ has a parent $p$ and $\\text{LOS}(p,\\text{neighbor}_s)$ is true, compute the shortcut\n",
    "  $$\\tilde g = g(p) + d(p,\\text{neighbor}_s)$$\n",
    "- Otherwise, use the standard update\n",
    "  $$\\tilde g = g(s) + d(s,\\text{neighbor}_s)$$\n",
    "\n",
    "Where $d(x, y)$ is euclidean distance between calls $x$ and $y$.\n",
    "\n",
    "This proccess is called **expansion**. Eventually, if $\\tilde g < g(\\text{neighbor}_s)$, then same updates (for SearchNode) as in A* algorithm apply.\n",
    "\n",
    "Theta\\* produces paths closer to true Euclidean shortest paths while keeping computational cost modest for practical applications.\n"
   ]
  },
  {
   "cell_type": "markdown",
   "metadata": {},
   "source": [
    "![img1](./images/img1.png)\n",
    "![img2](./images/img2.png)"
   ]
  },
  {
   "cell_type": "code",
   "execution_count": null,
   "metadata": {},
   "outputs": [],
   "source": [
    "from typing import Callable, Iterable, Optional, Tuple, Type\n",
    "\n",
    "%matplotlib inline"
   ]
  },
  {
   "cell_type": "markdown",
   "metadata": {},
   "source": [
    "## Grid Map Representation "
   ]
  },
  {
   "cell_type": "code",
   "execution_count": null,
   "metadata": {},
   "outputs": [],
   "source": [
    "from utils.Map import Map\n",
    "help(Map)"
   ]
  },
  {
   "cell_type": "markdown",
   "metadata": {},
   "source": [
    "## Search Node"
   ]
  },
  {
   "cell_type": "code",
   "execution_count": null,
   "metadata": {},
   "outputs": [],
   "source": [
    "from utils.Node import Node\n",
    "help(Node)"
   ]
  },
  {
   "cell_type": "code",
   "execution_count": null,
   "metadata": {},
   "outputs": [],
   "source": [
    "from utils.SearchTreePQD import SearchTreePQD\n",
    "help(SearchTreePQD)"
   ]
  },
  {
   "cell_type": "code",
   "execution_count": null,
   "metadata": {},
   "outputs": [],
   "source": [
    "from utils.lab_test import simple_test, massive_test"
   ]
  },
  {
   "cell_type": "code",
   "execution_count": null,
   "metadata": {},
   "outputs": [],
   "source": [
    "def euclidean_distance(i1: int, j1: int, i2: int, j2: int) -> int:\n",
    "    \"\"\"\n",
    "    Computes the Euclidean distance between two cells on a grid.\n",
    "\n",
    "    Parameters\n",
    "    ----------\n",
    "    i1, j1 : int\n",
    "        (i, j) coordinates of the first cell on the grid.\n",
    "    i2, j2 : int\n",
    "        (i, j) coordinates of the second cell on the grid.\n",
    "\n",
    "    Returns\n",
    "    -------\n",
    "    int\n",
    "        Euclidean distance between the two cells.\n",
    "    \"\"\"\n",
    "    #YOUR CODE GOES HERE"
   ]
  },
  {
   "cell_type": "code",
   "execution_count": null,
   "metadata": {},
   "outputs": [],
   "source": [
    "def compute_cost(i1: int, j1: int, i2: int, j2: int) -> int:\n",
    "    return euclidean_distance(i1, j1, i2, j2)"
   ]
  },
  {
   "cell_type": "code",
   "execution_count": null,
   "metadata": {},
   "outputs": [],
   "source": [
    "def line_of_sight(task_map: Map, start: Node, end: Node) -> bool:\n",
    "    \"\"\"\n",
    "    Checks if there is a direct line of sight between two nodes.\n",
    "    Uses Bresenham's line algorithm to validate traversability.\n",
    "    \"\"\"\n",
    "    #YOUR CODE GOES HERE"
   ]
  },
  {
   "cell_type": "code",
   "execution_count": null,
   "metadata": {},
   "outputs": [],
   "source": [
    "def thetastar(\n",
    "        task_map: Map, \n",
    "        start_i: int, \n",
    "        start_j: int, \n",
    "        goal_i: int, \n",
    "        goal_j: int, \n",
    "        heuristic_func: Callable, \n",
    "        search_tree: SearchTreePQD,\n",
    "    ) -> Tuple[bool, Optional[Node], int, int, Optional[Iterable[Node]], Optional[Iterable[Node]]]:\n",
    "    \"\"\"\n",
    "    Implements the theta* search algorithm.\n",
    "\n",
    "    Parameters\n",
    "    ----------\n",
    "    task_map : Map\n",
    "        The grid or map being searched.\n",
    "    start_i, start_j : int, int\n",
    "        Starting coordinates.\n",
    "    goal_i, goal_j : int, int\n",
    "        Goal coordinates.\n",
    "    heuristic_func : Callable\n",
    "        Heuristic function for estimating the distance from a node to the goal.\n",
    "    search_tree : Type[SearchTreePQD]\n",
    "        The search tree to use.\n",
    "\n",
    "    Returns\n",
    "    -------\n",
    "    Tuple[bool, Optional[Node], int, int, Optional[Iterable[Node]], Optional[Iterable[Node]]]\n",
    "        Tuple containing:\n",
    "        - A boolean indicating if a path was found.\n",
    "        - The last node in the found path or None.\n",
    "        - Number of algorithm iterations.\n",
    "        - Size of the resultant search tree.\n",
    "        - OPEN set nodes for visualization or None.\n",
    "        - CLOSED set nodes.\n",
    "    \"\"\"\n",
    "    tst = search_tree()\n",
    "    steps = 0\n",
    "\n",
    "    start_node = Node(start_i, start_j, g=0, h=heuristic_func(start_i, start_j, goal_i, goal_j))\n",
    "    tst.add_to_open(start_node)\n",
    "\n",
    "    #YOUR CODE GOES HERE"
   ]
  },
  {
   "cell_type": "code",
   "execution_count": null,
   "metadata": {},
   "outputs": [],
   "source": [
    "%time simple_test(thetastar, 6, True, euclidean_distance, SearchTreePQD)"
   ]
  },
  {
   "cell_type": "code",
   "execution_count": null,
   "metadata": {},
   "outputs": [],
   "source": [
    "%time massive_test(thetastar, euclidean_distance, SearchTreePQD)"
   ]
  }
 ],
 "metadata": {
  "kernelspec": {
   "display_name": ".venv",
   "language": "python",
   "name": "python3"
  },
  "language_info": {
   "codemirror_mode": {
    "name": "ipython",
    "version": 3
   },
   "file_extension": ".py",
   "mimetype": "text/x-python",
   "name": "python",
   "nbconvert_exporter": "python",
   "pygments_lexer": "ipython3",
   "version": "3.11.9"
  }
 },
 "nbformat": 4,
 "nbformat_minor": 4
}
